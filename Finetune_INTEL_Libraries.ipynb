{
 "cells": [
  {
   "cell_type": "code",
   "execution_count": null,
   "id": "dad17767-d615-45ed-8c51-15eff69f6992",
   "metadata": {},
   "outputs": [],
   "source": [
    "!pip install transformers\n",
    "import modin.pandas as pd\n",
    "import intel_extension_for_pytorch as ipex\n",
    "import torch\n",
    "import torch.nn as nn\n",
    "import torch.optim as optim\n",
    "from transformers import GPT2Tokenizer, GPT2LMHeadModel\n",
    "import numpy as np\n",
    "import nltk\n",
    "\n",
    "nltk.download('punkt')\n",
    "\n",
    "tokenizer = GPT2Tokenizer.from_pretrained(\"gpt2\")\n",
    "model = GPT2LMHeadModel.from_pretrained(\"gpt2\")\n",
    "model= ipex.optimize(model)\n",
    "\n",
    "optimizer = optim.Adam(model.parameters(), lr=0.001)\n",
    "\n"
   ]
  },
  {
   "cell_type": "code",
   "execution_count": null,
   "id": "ead793cf-bdfd-4c6d-a3b0-0634c39ec2b3",
   "metadata": {},
   "outputs": [],
   "source": [
    "df=pd.read_csv(\"mean.csv\")\n",
    "df=df.drop(\"word_id\", \"up_vote\", \"down_vote\", \"author\")"
   ]
  },
  {
   "cell_type": "code",
   "execution_count": null,
   "id": "9513a4fb-0bc0-425b-a4f2-abe365b73838",
   "metadata": {},
   "outputs": [],
   "source": [
    "def policy_gradient_update(optimizer, rewards, logits, actions):\n",
    "    loss = -torch.log(logits[range(len(logits)), actions])\n",
    "    loss = torch.mul(loss, rewards)  \n",
    "    loss = torch.mean(loss)\n",
    "    optimizer.zero_grad()\n",
    "    loss.backward()\n",
    "    optimizer.step()"
   ]
  },
  {
   "cell_type": "code",
   "execution_count": null,
   "id": "ebb2d6d3-79d8-40cb-ba9e-4ec26cf25ab2",
   "metadata": {},
   "outputs": [],
   "source": [
    "\n",
    "\n",
    "def calculate(reference, generated):\n",
    "    reference_tokens = [token.lower() for token in nltk.word_tokenize(reference)]\n",
    "    generated_tokens = [token.lower() for token in nltk.word_tokenize(generated)]\n",
    "    \n",
    "    # Calculate BLEU score with 4-gram precision\n",
    "    bleu_score = sentence_bleu([reference_tokens], generated_tokens, weights=(0.25, 0.25, 0.25, 0.25))\n",
    "    \n",
    "    return bleu_score\n",
    "\n",
    "# reference_sentence = \"The quick brown fox jumps over the lazy dog.\"\n",
    "# generated_sentence = \"A fast brown fox leaps over the tired dog.\"\n",
    "\n",
    "# reward = calculate_bleu(reference_sentence, generated_sentence)\n",
    "# print(f\"BLEU Score: {reward}\")\n"
   ]
  },
  {
   "cell_type": "code",
   "execution_count": null,
   "id": "80f863c0-3e16-4d8e-859e-c02724e83aa4",
   "metadata": {},
   "outputs": [],
   "source": [
    "num_epochs=10\n",
    "for epoch in range(num_epochs):\n",
    "    for word, sentence_meaning in data:\n",
    "        # Tokenize inputs\n",
    "        input_ids = tokenizer.encode(word, return_tensors=\"pt\")\n",
    "        target_ids = tokenizer.encode(mean, return_tensors=\"pt\")\n",
    "\n",
    "        # Forward pass to get logits\n",
    "        outputs = model(input_ids, labels=target_ids)\n",
    "        logits = outputs.logits\n",
    "        print(outputs)\n",
    "        # Assume you have a function to calculate rewards for the generated sentence\n",
    "        rewards = calculate(word, generated_sentence)\n",
    "\n",
    "        # Choose actions (words) based on logits (a simple example)\n",
    "        actions = torch.argmax(logits, dim=-1)\n",
    "\n",
    "        # Update model parameters using policy gradient\n",
    "        policy_gradient_update(optimizer, rewards, logits, actions)"
   ]
  },
  {
   "cell_type": "code",
   "execution_count": null,
   "id": "11525051-16f2-442f-b1ad-0ffe2764caa5",
   "metadata": {},
   "outputs": [],
   "source": []
  },
  {
   "cell_type": "code",
   "execution_count": null,
   "id": "ed6284f8-a079-4e80-b1ed-0a89801be7cb",
   "metadata": {},
   "outputs": [],
   "source": []
  }
 ],
 "metadata": {
  "kernelspec": {
   "display_name": "Python 3 (ipykernel)",
   "language": "python",
   "name": "python3"
  },
  "language_info": {
   "codemirror_mode": {
    "name": "ipython",
    "version": 3
   },
   "file_extension": ".py",
   "mimetype": "text/x-python",
   "name": "python",
   "nbconvert_exporter": "python",
   "pygments_lexer": "ipython3",
   "version": "3.11.4"
  }
 },
 "nbformat": 4,
 "nbformat_minor": 5
}
